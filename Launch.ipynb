{
 "cells": [
  {
   "cell_type": "code",
   "execution_count": 1,
   "id": "1cf7d944",
   "metadata": {},
   "outputs": [],
   "source": [
    "import os\n",
    "from IPython.core.display import display, HTML\n",
    "import warnings"
   ]
  },
  {
   "cell_type": "code",
   "execution_count": 2,
   "id": "eaa6c821",
   "metadata": {},
   "outputs": [],
   "source": [
    "warnings.filterwarnings('ignore')\n",
    "workspace_user = os.getenv('JUPYTERHUB_USER')"
   ]
  },
  {
   "cell_type": "code",
   "execution_count": 3,
   "id": "aab35caf",
   "metadata": {},
   "outputs": [
    {
     "data": {
      "text/html": [
       "<h2><a href=\"https://workspace.ds4a.com/user/luisenriquecarreno@hotmail.com/proxy/8050/\" target=\"_blank\">Click here to access App!</a></h2>"
      ],
      "text/plain": [
       "<IPython.core.display.HTML object>"
      ]
     },
     "metadata": {},
     "output_type": "display_data"
    }
   ],
   "source": [
    "port = '8050'\n",
    "dash_app_url = f'http://localhost:{port}/'\n",
    "if workspace_user:\n",
    "    dash_app_url = f\"https://workspace.ds4a.com/user/{workspace_user}/proxy/{port}/\"\n",
    "\n",
    "display(\n",
    "    HTML('<h2><a href=\"' + dash_app_url +\n",
    "         '\" target=\"_blank\">Click here to access App!</a></h2>'))"
   ]
  },
  {
   "cell_type": "code",
   "execution_count": 4,
   "id": "c9006652",
   "metadata": {},
   "outputs": [
    {
     "data": {
      "text/html": [
       "<h2><a href=\"https://workspace.ds4a.com/user/luisenriquecarreno@hotmail.com/proxy/8060/\" target=\"_blank\">Click here to access App Solutions!</a></h2>"
      ],
      "text/plain": [
       "<IPython.core.display.HTML object>"
      ]
     },
     "metadata": {},
     "output_type": "display_data"
    }
   ],
   "source": [
    "port = '8060'\n",
    "dash_app_url = f'http://localhost:{port}/'\n",
    "if workspace_user:\n",
    "    dash_app_url = f\"https://workspace.ds4a.com/user/{workspace_user}/proxy/{port}/\"\n",
    "\n",
    "display(\n",
    "    HTML('<h2><a href=\"' + dash_app_url +\n",
    "         '\" target=\"_blank\">Click here to access App Solutions!</a></h2>'))"
   ]
  }
 ],
 "metadata": {
  "kernelspec": {
   "display_name": "Python 3",
   "language": "python",
   "name": "python3"
  },
  "language_info": {
   "codemirror_mode": {
    "name": "ipython",
    "version": 3
   },
   "file_extension": ".py",
   "mimetype": "text/x-python",
   "name": "python",
   "nbconvert_exporter": "python",
   "pygments_lexer": "ipython3",
   "version": "3.8.12"
  }
 },
 "nbformat": 4,
 "nbformat_minor": 5
}
